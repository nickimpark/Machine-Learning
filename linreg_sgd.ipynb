{
 "cells": [
  {
   "cell_type": "markdown",
   "metadata": {},
   "source": [
    "# SGD for Linear Regression"
   ]
  },
  {
   "cell_type": "code",
   "execution_count": 1,
   "metadata": {},
   "outputs": [],
   "source": [
    "def warn(*args, **kwargs):\n",
    "    pass\n",
    "import warnings\n",
    "warnings.warn = warn"
   ]
  },
  {
   "cell_type": "code",
   "execution_count": 2,
   "metadata": {},
   "outputs": [],
   "source": [
    "import numpy as np\n",
    "from sklearn import datasets\n",
    "from sklearn.metrics import mean_squared_error"
   ]
  },
  {
   "cell_type": "code",
   "execution_count": 3,
   "metadata": {},
   "outputs": [],
   "source": [
    "def stochastic_gradient_descent(X, y, w_init=None, eta=0.01, eps=1e-8, max_iter=1e5):\n",
    "    X = np.array(X)\n",
    "    y = np.array(y)\n",
    "    if not w_init:\n",
    "        w_init = np.zeros(X.shape[1])\n",
    "    w_init = np.array(w_init)\n",
    "    weight_dist = np.inf\n",
    "    iter_num = 1\n",
    "    w = w_init\n",
    "    while (weight_dist >= eps) and (iter_num <= max_iter):\n",
    "        index = np.random.randint(len(X))\n",
    "        w_new = w - eta*2*X[index]*(np.dot(w, X[index]) - y[index])\n",
    "        weight_dist = np.linalg.norm(w_new - w)\n",
    "        iter_num += 1\n",
    "        w = w_new\n",
    "    return w"
   ]
  },
  {
   "cell_type": "markdown",
   "metadata": {},
   "source": [
    "## Algorithm Validation"
   ]
  },
  {
   "cell_type": "code",
   "execution_count": 4,
   "metadata": {},
   "outputs": [],
   "source": [
    "X, y = datasets.make_regression(n_samples=1000, n_features=5, n_informative=5, bias=10, noise=1)\n",
    "feature_ones = np.ones([len(X), 1]) # constant feature\n",
    "X = np.hstack([feature_ones, X]) # add constant feature to X as X[:, 0]"
   ]
  },
  {
   "cell_type": "code",
   "execution_count": 5,
   "metadata": {},
   "outputs": [
    {
     "name": "stdout",
     "output_type": "stream",
     "text": [
      "Coefs: [10.07701037 33.52857237 23.63798785 99.64423545 30.98784689 36.3293056 ]\n"
     ]
    }
   ],
   "source": [
    "w = stochastic_gradient_descent(X, y)\n",
    "print('Coefs: {}'.format(w))"
   ]
  },
  {
   "cell_type": "code",
   "execution_count": 6,
   "metadata": {},
   "outputs": [
    {
     "name": "stdout",
     "output_type": "stream",
     "text": [
      "MSE = 1.0367530640210796\n"
     ]
    }
   ],
   "source": [
    "y_pred = np.dot(X, w)\n",
    "print('MSE = {}'.format(mean_squared_error(y, y_pred)))"
   ]
  },
  {
   "cell_type": "code",
   "execution_count": null,
   "metadata": {},
   "outputs": [],
   "source": []
  }
 ],
 "metadata": {
  "kernelspec": {
   "display_name": "Python 3",
   "language": "python",
   "name": "python3"
  },
  "language_info": {
   "codemirror_mode": {
    "name": "ipython",
    "version": 3
   },
   "file_extension": ".py",
   "mimetype": "text/x-python",
   "name": "python",
   "nbconvert_exporter": "python",
   "pygments_lexer": "ipython3",
   "version": "3.7.3"
  }
 },
 "nbformat": 4,
 "nbformat_minor": 2
}
