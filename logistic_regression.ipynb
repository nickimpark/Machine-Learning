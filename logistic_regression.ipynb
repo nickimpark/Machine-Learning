{
 "cells": [
  {
   "cell_type": "markdown",
   "metadata": {},
   "source": [
    "# Logistic Regression (from scratch)"
   ]
  },
  {
   "cell_type": "code",
   "execution_count": 1,
   "metadata": {},
   "outputs": [],
   "source": [
    "def warn(*args, **kwargs):\n",
    "    pass\n",
    "import warnings\n",
    "warnings.warn = warn"
   ]
  },
  {
   "cell_type": "code",
   "execution_count": 2,
   "metadata": {},
   "outputs": [],
   "source": [
    "import numpy as np"
   ]
  },
  {
   "cell_type": "code",
   "execution_count": 3,
   "metadata": {},
   "outputs": [],
   "source": [
    "class LogRegression():\n",
    "    def __init__(self, w=[], eta=1e-2, eps=1e-2, max_iter=1e5, t=0.5):\n",
    "        self.w = np.array(w)\n",
    "        self.eta = eta\n",
    "        self.eps = eps\n",
    "        self.max_iter = max_iter\n",
    "        self.t = t\n",
    "    \n",
    "    def reset(self, X):\n",
    "        self.w = np.zeros(X.shape[1])\n",
    "    \n",
    "    def sigmoid(self, z):\n",
    "        return 1 / (1 + np.exp(-z))\n",
    "    \n",
    "    def predict_proba(self, X):\n",
    "        return self.sigmoid(np.dot(X, self.w))\n",
    "    \n",
    "    def predict(self, X):\n",
    "        proba = self.sigmoid(np.dot(X, self.w))\n",
    "        return np.array(list(map(int, logreg.predict_proba(X) > self.t)))\n",
    "    \n",
    "    def log_loss(self, X, y):\n",
    "        p = self.sigmoid(np.dot(X, self.w))\n",
    "        l = X.shape[0]\n",
    "        return - (1 / l) * np.sum(y * np.log(p) + (1 - y) * np.log(1 - p))\n",
    "    \n",
    "    def grad_log_loss(self, X, y):\n",
    "        p = self.sigmoid(np.dot(X, self.w))\n",
    "        l = X.shape[0]\n",
    "        grad = np.zeros(self.w.shape[0])\n",
    "        for j in range(self.w.shape[0]):\n",
    "            grad[j] = (1 / l) * np.sum((p - y) * X[:, j])\n",
    "        return grad\n",
    "    \n",
    "    def fit(self, X, y):\n",
    "        X = np.array(X)\n",
    "        y = np.array(y)\n",
    "        self.w = np.zeros(X.shape[1])\n",
    "        weight_dist = np.inf\n",
    "        iter_num = 0\n",
    "        w = self.w\n",
    "        while (weight_dist > self.eps) and (iter_num < self.max_iter):\n",
    "            w_new = w - self.eta*self.grad_log_loss(X, y)\n",
    "            weight_dist = np.linalg.norm(w_new - w)\n",
    "            iter_num += 1\n",
    "            w = w_new\n",
    "        self.w = w"
   ]
  },
  {
   "cell_type": "markdown",
   "metadata": {},
   "source": [
    "# Algorithm validation"
   ]
  },
  {
   "cell_type": "code",
   "execution_count": 4,
   "metadata": {},
   "outputs": [],
   "source": [
    "from sklearn import datasets\n",
    "from sklearn.metrics import accuracy_score\n",
    "from sklearn.metrics import roc_auc_score"
   ]
  },
  {
   "cell_type": "markdown",
   "metadata": {},
   "source": [
    "### Let's generate some toy dataset for classification task"
   ]
  },
  {
   "cell_type": "code",
   "execution_count": 5,
   "metadata": {},
   "outputs": [],
   "source": [
    "X, y = datasets.make_classification(n_samples=1000, n_classes=2, n_features=2, n_informative=2, n_redundant=0)\n",
    "feature_ones = np.ones([len(X), 1]) # constant feature\n",
    "X = np.hstack([feature_ones, X]) # add constant feature to X as X[:, 0]"
   ]
  },
  {
   "cell_type": "markdown",
   "metadata": {},
   "source": [
    "### Let's train the model and calculate Accuracy and ROC-AUC score"
   ]
  },
  {
   "cell_type": "code",
   "execution_count": 6,
   "metadata": {},
   "outputs": [
    {
     "name": "stdout",
     "output_type": "stream",
     "text": [
      "Accuracy score: 0.915\n",
      "ROC-AUC score: 0.9595478381913527\n"
     ]
    }
   ],
   "source": [
    "logreg = LogRegression()\n",
    "logreg.fit(X, y)\n",
    "\n",
    "y_proba = logreg.predict_proba(X)\n",
    "y_pred = logreg.predict(X)\n",
    "print('Accuracy score: {}'.format(accuracy_score(y, y_pred)))\n",
    "print('ROC-AUC score: {}'.format(roc_auc_score(y, y_proba)))"
   ]
  },
  {
   "cell_type": "markdown",
   "metadata": {},
   "source": [
    "### Let's compare it with the standard Scikit-learn Logistic Regression"
   ]
  },
  {
   "cell_type": "code",
   "execution_count": 7,
   "metadata": {},
   "outputs": [],
   "source": [
    "from sklearn.linear_model import LogisticRegression"
   ]
  },
  {
   "cell_type": "code",
   "execution_count": 8,
   "metadata": {},
   "outputs": [
    {
     "name": "stdout",
     "output_type": "stream",
     "text": [
      "Accuracy score: 0.926\n",
      "ROC-AUC score: 0.9602718410873643\n"
     ]
    }
   ],
   "source": [
    "logreg_sklearn = LogisticRegression()\n",
    "logreg_sklearn.fit(X, y)\n",
    "\n",
    "y_proba = logreg_sklearn.predict_proba(X)[:,1]\n",
    "y_pred = logreg_sklearn.predict(X)\n",
    "print('Accuracy score: {}'.format(accuracy_score(y, y_pred)))\n",
    "print('ROC-AUC score: {}'.format(roc_auc_score(y, y_proba)))"
   ]
  },
  {
   "cell_type": "markdown",
   "metadata": {},
   "source": [
    "### Pretty good!"
   ]
  },
  {
   "cell_type": "code",
   "execution_count": null,
   "metadata": {},
   "outputs": [],
   "source": []
  }
 ],
 "metadata": {
  "kernelspec": {
   "display_name": "Python 3",
   "language": "python",
   "name": "python3"
  },
  "language_info": {
   "codemirror_mode": {
    "name": "ipython",
    "version": 3
   },
   "file_extension": ".py",
   "mimetype": "text/x-python",
   "name": "python",
   "nbconvert_exporter": "python",
   "pygments_lexer": "ipython3",
   "version": "3.7.3"
  }
 },
 "nbformat": 4,
 "nbformat_minor": 2
}
